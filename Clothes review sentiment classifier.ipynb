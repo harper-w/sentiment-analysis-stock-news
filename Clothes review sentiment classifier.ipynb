{
 "cells": [
  {
   "cell_type": "markdown",
   "id": "55a12fa6",
   "metadata": {},
   "source": [
    "# Background"
   ]
  },
  {
   "cell_type": "markdown",
   "id": "d9d00d1c",
   "metadata": {},
   "source": [
    "In recent years, online shopping has become one of the primary channels for apparel sales in the UK. According to statistics from Statista, since the COVID-19 pandemic in 2020, online clothing purchases have accounted for over 50% of the UK's apparel sales revenue. Many merchants increasingly focus on online sales, and some brands, such as Shein, exclusively sell through the Internet. While online shopping reduces travel costs and selection costs for consumers, most find it difficult to obtain sufficient information about fabric, fit, and size from website descriptions and images. Therefore, reviews from other consumers are one of the most relied-upon sources of information for online clothing purchases.\n",
    "\n",
    "Training a machine learning model can serve two purposes. Firstly, it can help customers make better decisions about purchasing a garment based on others' reviews, thereby reducing the time and material waste caused by returns. The natural language used in reviews is not always interpreted correctly by others; for instance, a customer's subtle criticism of a product might be mistaken for a recommendation, or their lengthy comments might be too daunting or difficult to analyses for attitude. This is true for both customers and merchants. Merchants can use the model to monitor every item they sell. Based on public reviews, they can adjust their products' production and inventory levels to increase profits. With fast fashion brands, many products have too short a life cycle to determine their popularity through quarterly financial reports.\n"
   ]
  },
  {
   "cell_type": "markdown",
   "id": "fd5f7fcf",
   "metadata": {},
   "source": [
    "# Loading dataset and exploring the dataset"
   ]
  },
  {
   "cell_type": "code",
   "execution_count": 1,
   "id": "0722094f",
   "metadata": {},
   "outputs": [
    {
     "name": "stderr",
     "output_type": "stream",
     "text": [
      "[nltk_data] Downloading package stopwords to\n",
      "[nltk_data]     /Users/yifanwang/nltk_data...\n",
      "[nltk_data]   Package stopwords is already up-to-date!\n",
      "[nltk_data] Downloading package wordnet to\n",
      "[nltk_data]     /Users/yifanwang/nltk_data...\n",
      "[nltk_data]   Package wordnet is already up-to-date!\n",
      "[nltk_data] Downloading package punkt to /Users/yifanwang/nltk_data...\n",
      "[nltk_data]   Package punkt is already up-to-date!\n"
     ]
    }
   ],
   "source": [
    "#Import required packages\n",
    "import numpy as np\n",
    "import pandas as pd\n",
    "import seaborn as sns\n",
    "import matplotlib.pyplot as plt\n",
    "#Import required packages for dataset preprocessing\n",
    "import re\n",
    "import nltk\n",
    "from nltk.corpus import stopwords\n",
    "from nltk.stem import WordNetLemmatizer\n",
    "from nltk.tokenize import word_tokenize\n",
    "nltk.download('stopwords')\n",
    "nltk.download('wordnet')\n",
    "nltk.download('punkt')\n",
    "import gensim\n",
    "from gensim.models import Word2Vec\n",
    "from sklearn.feature_extraction.text import TfidfVectorizer\n",
    "# Packages for model building\n",
    "from sklearn.naive_bayes import GaussianNB\n",
    "from sklearn import svm\n",
    "from sklearn.model_selection import GridSearchCV\n",
    "from sklearn.model_selection import train_test_split\n",
    "from sklearn.metrics import classification_report, f1_score, accuracy_score, confusion_matrix, precision_score, recall_score, accuracy_score\n",
    "from sklearn.metrics import roc_curve, auc, roc_auc_score  \n",
    "import joblib"
   ]
  },
  {
   "cell_type": "code",
   "execution_count": 2,
   "id": "ff6ad076",
   "metadata": {},
   "outputs": [
    {
     "data": {
      "text/html": [
       "<div>\n",
       "<style scoped>\n",
       "    .dataframe tbody tr th:only-of-type {\n",
       "        vertical-align: middle;\n",
       "    }\n",
       "\n",
       "    .dataframe tbody tr th {\n",
       "        vertical-align: top;\n",
       "    }\n",
       "\n",
       "    .dataframe thead th {\n",
       "        text-align: right;\n",
       "    }\n",
       "</style>\n",
       "<table border=\"1\" class=\"dataframe\">\n",
       "  <thead>\n",
       "    <tr style=\"text-align: right;\">\n",
       "      <th></th>\n",
       "      <th>Clothing ID</th>\n",
       "      <th>Age</th>\n",
       "      <th>Title</th>\n",
       "      <th>Review Text</th>\n",
       "      <th>Rating</th>\n",
       "      <th>Recommended IND</th>\n",
       "      <th>Positive Feedback Count</th>\n",
       "      <th>Division Name</th>\n",
       "      <th>Department Name</th>\n",
       "      <th>Class Name</th>\n",
       "    </tr>\n",
       "  </thead>\n",
       "  <tbody>\n",
       "    <tr>\n",
       "      <th>0</th>\n",
       "      <td>767</td>\n",
       "      <td>33</td>\n",
       "      <td>NaN</td>\n",
       "      <td>Absolutely wonderful - silky and sexy and comf...</td>\n",
       "      <td>4</td>\n",
       "      <td>1</td>\n",
       "      <td>0</td>\n",
       "      <td>Initmates</td>\n",
       "      <td>Intimate</td>\n",
       "      <td>Intimates</td>\n",
       "    </tr>\n",
       "    <tr>\n",
       "      <th>1</th>\n",
       "      <td>1080</td>\n",
       "      <td>34</td>\n",
       "      <td>NaN</td>\n",
       "      <td>Love this dress!  it's sooo pretty.  i happene...</td>\n",
       "      <td>5</td>\n",
       "      <td>1</td>\n",
       "      <td>4</td>\n",
       "      <td>General</td>\n",
       "      <td>Dresses</td>\n",
       "      <td>Dresses</td>\n",
       "    </tr>\n",
       "    <tr>\n",
       "      <th>2</th>\n",
       "      <td>1077</td>\n",
       "      <td>60</td>\n",
       "      <td>Some major design flaws</td>\n",
       "      <td>I had such high hopes for this dress and reall...</td>\n",
       "      <td>3</td>\n",
       "      <td>0</td>\n",
       "      <td>0</td>\n",
       "      <td>General</td>\n",
       "      <td>Dresses</td>\n",
       "      <td>Dresses</td>\n",
       "    </tr>\n",
       "    <tr>\n",
       "      <th>3</th>\n",
       "      <td>1049</td>\n",
       "      <td>50</td>\n",
       "      <td>My favorite buy!</td>\n",
       "      <td>I love, love, love this jumpsuit. it's fun, fl...</td>\n",
       "      <td>5</td>\n",
       "      <td>1</td>\n",
       "      <td>0</td>\n",
       "      <td>General Petite</td>\n",
       "      <td>Bottoms</td>\n",
       "      <td>Pants</td>\n",
       "    </tr>\n",
       "    <tr>\n",
       "      <th>4</th>\n",
       "      <td>847</td>\n",
       "      <td>47</td>\n",
       "      <td>Flattering shirt</td>\n",
       "      <td>This shirt is very flattering to all due to th...</td>\n",
       "      <td>5</td>\n",
       "      <td>1</td>\n",
       "      <td>6</td>\n",
       "      <td>General</td>\n",
       "      <td>Tops</td>\n",
       "      <td>Blouses</td>\n",
       "    </tr>\n",
       "    <tr>\n",
       "      <th>...</th>\n",
       "      <td>...</td>\n",
       "      <td>...</td>\n",
       "      <td>...</td>\n",
       "      <td>...</td>\n",
       "      <td>...</td>\n",
       "      <td>...</td>\n",
       "      <td>...</td>\n",
       "      <td>...</td>\n",
       "      <td>...</td>\n",
       "      <td>...</td>\n",
       "    </tr>\n",
       "    <tr>\n",
       "      <th>23481</th>\n",
       "      <td>1104</td>\n",
       "      <td>34</td>\n",
       "      <td>Great dress for many occasions</td>\n",
       "      <td>I was very happy to snag this dress at such a ...</td>\n",
       "      <td>5</td>\n",
       "      <td>1</td>\n",
       "      <td>0</td>\n",
       "      <td>General Petite</td>\n",
       "      <td>Dresses</td>\n",
       "      <td>Dresses</td>\n",
       "    </tr>\n",
       "    <tr>\n",
       "      <th>23482</th>\n",
       "      <td>862</td>\n",
       "      <td>48</td>\n",
       "      <td>Wish it was made of cotton</td>\n",
       "      <td>It reminds me of maternity clothes. soft, stre...</td>\n",
       "      <td>3</td>\n",
       "      <td>1</td>\n",
       "      <td>0</td>\n",
       "      <td>General Petite</td>\n",
       "      <td>Tops</td>\n",
       "      <td>Knits</td>\n",
       "    </tr>\n",
       "    <tr>\n",
       "      <th>23483</th>\n",
       "      <td>1104</td>\n",
       "      <td>31</td>\n",
       "      <td>Cute, but see through</td>\n",
       "      <td>This fit well, but the top was very see throug...</td>\n",
       "      <td>3</td>\n",
       "      <td>0</td>\n",
       "      <td>1</td>\n",
       "      <td>General Petite</td>\n",
       "      <td>Dresses</td>\n",
       "      <td>Dresses</td>\n",
       "    </tr>\n",
       "    <tr>\n",
       "      <th>23484</th>\n",
       "      <td>1084</td>\n",
       "      <td>28</td>\n",
       "      <td>Very cute dress, perfect for summer parties an...</td>\n",
       "      <td>I bought this dress for a wedding i have this ...</td>\n",
       "      <td>3</td>\n",
       "      <td>1</td>\n",
       "      <td>2</td>\n",
       "      <td>General</td>\n",
       "      <td>Dresses</td>\n",
       "      <td>Dresses</td>\n",
       "    </tr>\n",
       "    <tr>\n",
       "      <th>23485</th>\n",
       "      <td>1104</td>\n",
       "      <td>52</td>\n",
       "      <td>Please make more like this one!</td>\n",
       "      <td>This dress in a lovely platinum is feminine an...</td>\n",
       "      <td>5</td>\n",
       "      <td>1</td>\n",
       "      <td>22</td>\n",
       "      <td>General Petite</td>\n",
       "      <td>Dresses</td>\n",
       "      <td>Dresses</td>\n",
       "    </tr>\n",
       "  </tbody>\n",
       "</table>\n",
       "<p>23486 rows × 10 columns</p>\n",
       "</div>"
      ],
      "text/plain": [
       "       Clothing ID  Age                                              Title  \\\n",
       "0              767   33                                                NaN   \n",
       "1             1080   34                                                NaN   \n",
       "2             1077   60                            Some major design flaws   \n",
       "3             1049   50                                   My favorite buy!   \n",
       "4              847   47                                   Flattering shirt   \n",
       "...            ...  ...                                                ...   \n",
       "23481         1104   34                     Great dress for many occasions   \n",
       "23482          862   48                         Wish it was made of cotton   \n",
       "23483         1104   31                              Cute, but see through   \n",
       "23484         1084   28  Very cute dress, perfect for summer parties an...   \n",
       "23485         1104   52                    Please make more like this one!   \n",
       "\n",
       "                                             Review Text  Rating  \\\n",
       "0      Absolutely wonderful - silky and sexy and comf...       4   \n",
       "1      Love this dress!  it's sooo pretty.  i happene...       5   \n",
       "2      I had such high hopes for this dress and reall...       3   \n",
       "3      I love, love, love this jumpsuit. it's fun, fl...       5   \n",
       "4      This shirt is very flattering to all due to th...       5   \n",
       "...                                                  ...     ...   \n",
       "23481  I was very happy to snag this dress at such a ...       5   \n",
       "23482  It reminds me of maternity clothes. soft, stre...       3   \n",
       "23483  This fit well, but the top was very see throug...       3   \n",
       "23484  I bought this dress for a wedding i have this ...       3   \n",
       "23485  This dress in a lovely platinum is feminine an...       5   \n",
       "\n",
       "       Recommended IND  Positive Feedback Count   Division Name  \\\n",
       "0                    1                        0       Initmates   \n",
       "1                    1                        4         General   \n",
       "2                    0                        0         General   \n",
       "3                    1                        0  General Petite   \n",
       "4                    1                        6         General   \n",
       "...                ...                      ...             ...   \n",
       "23481                1                        0  General Petite   \n",
       "23482                1                        0  General Petite   \n",
       "23483                0                        1  General Petite   \n",
       "23484                1                        2         General   \n",
       "23485                1                       22  General Petite   \n",
       "\n",
       "      Department Name Class Name  \n",
       "0            Intimate  Intimates  \n",
       "1             Dresses    Dresses  \n",
       "2             Dresses    Dresses  \n",
       "3             Bottoms      Pants  \n",
       "4                Tops    Blouses  \n",
       "...               ...        ...  \n",
       "23481         Dresses    Dresses  \n",
       "23482            Tops      Knits  \n",
       "23483         Dresses    Dresses  \n",
       "23484         Dresses    Dresses  \n",
       "23485         Dresses    Dresses  \n",
       "\n",
       "[23486 rows x 10 columns]"
      ]
     },
     "execution_count": 2,
     "metadata": {},
     "output_type": "execute_result"
    }
   ],
   "source": [
    "#Load the dataset\n",
    "clothes_review= pd.read_csv('Womens Clothing E-Commerce Reviews.csv',index_col=0)\n",
    "clothes_review"
   ]
  },
  {
   "cell_type": "code",
   "execution_count": 3,
   "id": "4ac8328e",
   "metadata": {},
   "outputs": [
    {
     "name": "stdout",
     "output_type": "stream",
     "text": [
      "Recommended IND\n",
      "1    19314\n",
      "0     4172\n",
      "Name: count, dtype: int64\n"
     ]
    },
    {
     "data": {
      "text/plain": [
       "<Axes: xlabel='Recommended IND'>"
      ]
     },
     "execution_count": 3,
     "metadata": {},
     "output_type": "execute_result"
    },
    {
     "data": {
      "image/png": "[encoded data removed]",
      "text/plain": [
       "<Figure size 640x480 with 1 Axes>"
      ]
     },
     "metadata": {},
     "output_type": "display_data"
    }
   ],
   "source": [
    "# Show the distrubtion of each class\n",
    "classification_distribution=clothes_review['Recommended IND'].value_counts()\n",
    "print(classification_distribution)\n",
    "sns.barplot(x=classification_distribution.index, y=classification_distribution.values)"
   ]
  },
  {
   "cell_type": "code",
   "execution_count": 4,
   "id": "78396d21",
   "metadata": {},
   "outputs": [
    {
     "data": {
      "text/plain": [
       "Clothing ID                   0\n",
       "Age                           0\n",
       "Title                      3810\n",
       "Review Text                 845\n",
       "Rating                        0\n",
       "Recommended IND               0\n",
       "Positive Feedback Count       0\n",
       "Division Name                14\n",
       "Department Name              14\n",
       "Class Name                   14\n",
       "dtype: int64"
      ]
     },
     "execution_count": 4,
     "metadata": {},
     "output_type": "execute_result"
    }
   ],
   "source": [
    "# Check missing value\n",
    "clothes_review.isna().sum()"
   ]
  },
  {
   "cell_type": "code",
   "execution_count": 5,
   "id": "35bd2730",
   "metadata": {},
   "outputs": [
    {
     "data": {
      "text/html": [
       "<div>\n",
       "<style scoped>\n",
       "    .dataframe tbody tr th:only-of-type {\n",
       "        vertical-align: middle;\n",
       "    }\n",
       "\n",
       "    .dataframe tbody tr th {\n",
       "        vertical-align: top;\n",
       "    }\n",
       "\n",
       "    .dataframe thead th {\n",
       "        text-align: right;\n",
       "    }\n",
       "</style>\n",
       "<table border=\"1\" class=\"dataframe\">\n",
       "  <thead>\n",
       "    <tr style=\"text-align: right;\">\n",
       "      <th></th>\n",
       "      <th>Clothing ID</th>\n",
       "      <th>Age</th>\n",
       "      <th>Title</th>\n",
       "      <th>Review Text</th>\n",
       "      <th>Rating</th>\n",
       "      <th>Recommended IND</th>\n",
       "      <th>Positive Feedback Count</th>\n",
       "      <th>Division Name</th>\n",
       "      <th>Department Name</th>\n",
       "      <th>Class Name</th>\n",
       "    </tr>\n",
       "  </thead>\n",
       "  <tbody>\n",
       "    <tr>\n",
       "      <th>0</th>\n",
       "      <td>767</td>\n",
       "      <td>33</td>\n",
       "      <td>NaN</td>\n",
       "      <td>Absolutely wonderful - silky and sexy and comf...</td>\n",
       "      <td>4</td>\n",
       "      <td>1</td>\n",
       "      <td>0</td>\n",
       "      <td>Initmates</td>\n",
       "      <td>Intimate</td>\n",
       "      <td>Intimates</td>\n",
       "    </tr>\n",
       "    <tr>\n",
       "      <th>1</th>\n",
       "      <td>1080</td>\n",
       "      <td>34</td>\n",
       "      <td>NaN</td>\n",
       "      <td>Love this dress!  it's sooo pretty.  i happene...</td>\n",
       "      <td>5</td>\n",
       "      <td>1</td>\n",
       "      <td>4</td>\n",
       "      <td>General</td>\n",
       "      <td>Dresses</td>\n",
       "      <td>Dresses</td>\n",
       "    </tr>\n",
       "    <tr>\n",
       "      <th>2</th>\n",
       "      <td>1077</td>\n",
       "      <td>60</td>\n",
       "      <td>Some major design flaws</td>\n",
       "      <td>I had such high hopes for this dress and reall...</td>\n",
       "      <td>3</td>\n",
       "      <td>0</td>\n",
       "      <td>0</td>\n",
       "      <td>General</td>\n",
       "      <td>Dresses</td>\n",
       "      <td>Dresses</td>\n",
       "    </tr>\n",
       "    <tr>\n",
       "      <th>3</th>\n",
       "      <td>1049</td>\n",
       "      <td>50</td>\n",
       "      <td>My favorite buy!</td>\n",
       "      <td>I love, love, love this jumpsuit. it's fun, fl...</td>\n",
       "      <td>5</td>\n",
       "      <td>1</td>\n",
       "      <td>0</td>\n",
       "      <td>General Petite</td>\n",
       "      <td>Bottoms</td>\n",
       "      <td>Pants</td>\n",
       "    </tr>\n",
       "    <tr>\n",
       "      <th>4</th>\n",
       "      <td>847</td>\n",
       "      <td>47</td>\n",
       "      <td>Flattering shirt</td>\n",
       "      <td>This shirt is very flattering to all due to th...</td>\n",
       "      <td>5</td>\n",
       "      <td>1</td>\n",
       "      <td>6</td>\n",
       "      <td>General</td>\n",
       "      <td>Tops</td>\n",
       "      <td>Blouses</td>\n",
       "    </tr>\n",
       "    <tr>\n",
       "      <th>...</th>\n",
       "      <td>...</td>\n",
       "      <td>...</td>\n",
       "      <td>...</td>\n",
       "      <td>...</td>\n",
       "      <td>...</td>\n",
       "      <td>...</td>\n",
       "      <td>...</td>\n",
       "      <td>...</td>\n",
       "      <td>...</td>\n",
       "      <td>...</td>\n",
       "    </tr>\n",
       "    <tr>\n",
       "      <th>23481</th>\n",
       "      <td>1104</td>\n",
       "      <td>34</td>\n",
       "      <td>Great dress for many occasions</td>\n",
       "      <td>I was very happy to snag this dress at such a ...</td>\n",
       "      <td>5</td>\n",
       "      <td>1</td>\n",
       "      <td>0</td>\n",
       "      <td>General Petite</td>\n",
       "      <td>Dresses</td>\n",
       "      <td>Dresses</td>\n",
       "    </tr>\n",
       "    <tr>\n",
       "      <th>23482</th>\n",
       "      <td>862</td>\n",
       "      <td>48</td>\n",
       "      <td>Wish it was made of cotton</td>\n",
       "      <td>It reminds me of maternity clothes. soft, stre...</td>\n",
       "      <td>3</td>\n",
       "      <td>1</td>\n",
       "      <td>0</td>\n",
       "      <td>General Petite</td>\n",
       "      <td>Tops</td>\n",
       "      <td>Knits</td>\n",
       "    </tr>\n",
       "    <tr>\n",
       "      <th>23483</th>\n",
       "      <td>1104</td>\n",
       "      <td>31</td>\n",
       "      <td>Cute, but see through</td>\n",
       "      <td>This fit well, but the top was very see throug...</td>\n",
       "      <td>3</td>\n",
       "      <td>0</td>\n",
       "      <td>1</td>\n",
       "      <td>General Petite</td>\n",
       "      <td>Dresses</td>\n",
       "      <td>Dresses</td>\n",
       "    </tr>\n",
       "    <tr>\n",
       "      <th>23484</th>\n",
       "      <td>1084</td>\n",
       "      <td>28</td>\n",
       "      <td>Very cute dress, perfect for summer parties an...</td>\n",
       "      <td>I bought this dress for a wedding i have this ...</td>\n",
       "      <td>3</td>\n",
       "      <td>1</td>\n",
       "      <td>2</td>\n",
       "      <td>General</td>\n",
       "      <td>Dresses</td>\n",
       "      <td>Dresses</td>\n",
       "    </tr>\n",
       "    <tr>\n",
       "      <th>23485</th>\n",
       "      <td>1104</td>\n",
       "      <td>52</td>\n",
       "      <td>Please make more like this one!</td>\n",
       "      <td>This dress in a lovely platinum is feminine an...</td>\n",
       "      <td>5</td>\n",
       "      <td>1</td>\n",
       "      <td>22</td>\n",
       "      <td>General Petite</td>\n",
       "      <td>Dresses</td>\n",
       "      <td>Dresses</td>\n",
       "    </tr>\n",
       "  </tbody>\n",
       "</table>\n",
       "<p>22641 rows × 10 columns</p>\n",
       "</div>"
      ],
      "text/plain": [
       "       Clothing ID  Age                                              Title  \\\n",
       "0              767   33                                                NaN   \n",
       "1             1080   34                                                NaN   \n",
       "2             1077   60                            Some major design flaws   \n",
       "3             1049   50                                   My favorite buy!   \n",
       "4              847   47                                   Flattering shirt   \n",
       "...            ...  ...                                                ...   \n",
       "23481         1104   34                     Great dress for many occasions   \n",
       "23482          862   48                         Wish it was made of cotton   \n",
       "23483         1104   31                              Cute, but see through   \n",
       "23484         1084   28  Very cute dress, perfect for summer parties an...   \n",
       "23485         1104   52                    Please make more like this one!   \n",
       "\n",
       "                                             Review Text  Rating  \\\n",
       "0      Absolutely wonderful - silky and sexy and comf...       4   \n",
       "1      Love this dress!  it's sooo pretty.  i happene...       5   \n",
       "2      I had such high hopes for this dress and reall...       3   \n",
       "3      I love, love, love this jumpsuit. it's fun, fl...       5   \n",
       "4      This shirt is very flattering to all due to th...       5   \n",
       "...                                                  ...     ...   \n",
       "23481  I was very happy to snag this dress at such a ...       5   \n",
       "23482  It reminds me of maternity clothes. soft, stre...       3   \n",
       "23483  This fit well, but the top was very see throug...       3   \n",
       "23484  I bought this dress for a wedding i have this ...       3   \n",
       "23485  This dress in a lovely platinum is feminine an...       5   \n",
       "\n",
       "       Recommended IND  Positive Feedback Count   Division Name  \\\n",
       "0                    1                        0       Initmates   \n",
       "1                    1                        4         General   \n",
       "2                    0                        0         General   \n",
       "3                    1                        0  General Petite   \n",
       "4                    1                        6         General   \n",
       "...                ...                      ...             ...   \n",
       "23481                1                        0  General Petite   \n",
       "23482                1                        0  General Petite   \n",
       "23483                0                        1  General Petite   \n",
       "23484                1                        2         General   \n",
       "23485                1                       22  General Petite   \n",
       "\n",
       "      Department Name Class Name  \n",
       "0            Intimate  Intimates  \n",
       "1             Dresses    Dresses  \n",
       "2             Dresses    Dresses  \n",
       "3             Bottoms      Pants  \n",
       "4                Tops    Blouses  \n",
       "...               ...        ...  \n",
       "23481         Dresses    Dresses  \n",
       "23482            Tops      Knits  \n",
       "23483         Dresses    Dresses  \n",
       "23484         Dresses    Dresses  \n",
       "23485         Dresses    Dresses  \n",
       "\n",
       "[22641 rows x 10 columns]"
      ]
     },
     "execution_count": 5,
     "metadata": {},
     "output_type": "execute_result"
    }
   ],
   "source": [
    "#Drop the row that have no review text input\n",
    "clothes_review_copy=clothes_review.copy()\n",
    "clothes_review_clean = clothes_review_copy.dropna(subset=['Review Text'])\n",
    "clothes_review_clean"
   ]
  },
  {
   "cell_type": "code",
   "execution_count": 6,
   "id": "e05c3e9a",
   "metadata": {},
   "outputs": [
    {
     "name": "stdout",
     "output_type": "stream",
     "text": [
      "Recommended IND\n",
      "1    18540\n",
      "0     4101\n",
      "Name: count, dtype: int64\n"
     ]
    },
    {
     "data": {
      "text/plain": [
       "<Axes: xlabel='Recommended IND'>"
      ]
     },
     "execution_count": 6,
     "metadata": {},
     "output_type": "execute_result"
    },
    {
     "data": {
      "image/png": "[encoded data removed]",
      "text/plain": [
       "<Figure size 640x480 with 1 Axes>"
      ]
     },
     "metadata": {},
     "output_type": "display_data"
    }
   ],
   "source": [
    "# Show the distrubtion of each class after drop N.A\n",
    "classification_distribution_clean=clothes_review_clean['Recommended IND'].value_counts()\n",
    "print(classification_distribution_clean)\n",
    "sns.barplot(x=classification_distribution_clean.index, y=classification_distribution_clean.values)"
   ]
  },
  {
   "cell_type": "code",
   "execution_count": 7,
   "id": "c6586058",
   "metadata": {},
   "outputs": [
    {
     "name": "stdout",
     "output_type": "stream",
     "text": [
      "59.797357065803666\n",
      "62.001950743721046\n"
     ]
    }
   ],
   "source": [
    "# Check the average length of review for both class \n",
    "clothes_review_count=clothes_review_clean.copy()\n",
    "clothes_review_count.loc[:, 'word_count'] = clothes_review_count['Review Text'].apply(lambda x: len(str(x).split()))\n",
    "print(clothes_review_count[clothes_review_count['Recommended IND']==1]['word_count'].mean()) \n",
    "print(clothes_review_count[clothes_review_count['Recommended IND']==0]['word_count'].mean())"
   ]
  },
  {
   "cell_type": "code",
   "execution_count": 8,
   "id": "755d85b0",
   "metadata": {},
   "outputs": [
    {
     "data": {
      "image/png": "[encoded data removed]",
      "text/plain": [
       "<Figure size 1000x600 with 1 Axes>"
      ]
     },
     "metadata": {},
     "output_type": "display_data"
    }
   ],
   "source": [
    "# Show the word count distribution of recommend reviews\n",
    "plt.figure(figsize=(10, 6))\n",
    "good_words=clothes_review_count[clothes_review_count['Recommended IND']==1]['word_count']\n",
    "sns.histplot(good_words, color='red')\n",
    "plt.title('Distribution of Word Counts in Recommend Reviews')\n",
    "plt.xlabel('Word Count')\n",
    "plt.ylabel('Frequency')\n",
    "plt.show()"
   ]
  },
  {
   "cell_type": "code",
   "execution_count": 9,
   "id": "aa660687",
   "metadata": {},
   "outputs": [
    {
     "data": {
      "image/png": "[encoded data removed]",
      "text/plain": [
       "<Figure size 1000x600 with 1 Axes>"
      ]
     },
     "metadata": {},
     "output_type": "display_data"
    }
   ],
   "source": [
    "# Show the word count distribution of not recommend reviews\n",
    "plt.figure(figsize=(10, 6))\n",
    "good_words=clothes_review_count[clothes_review_count['Recommended IND']==0]['word_count']\n",
    "sns.histplot(good_words, color='blue')\n",
    "plt.title('Distribution of Word Counts in Recommend Reviews')\n",
    "plt.xlabel('Word Count')\n",
    "plt.ylabel('Frequency')\n",
    "plt.show()"
   ]
  },
  {
   "cell_type": "markdown",
   "id": "1a8807a0",
   "metadata": {},
   "source": [
    "## Introducing the dataset"
   ]
  },
  {
   "cell_type": "markdown",
   "id": "1b3cda66",
   "metadata": {},
   "source": [
    "This database was downloaded from Kaggle. The author collected 23,486 customer reviews on various brands and clothing items. Each review includes several pieces of information: Clothing, Age, Title, Review Text, Rating, Recommended IND, Positive Feedback Count, Division Name, Department Name, and Class Name. This model will use Review Text as the feature and Recommended IND as the label for training. Each Review Text contains a customer's comment in a string format. The Recommended IND contains only two integers, 0 or 1, where 0 represents not recommended, and 1 illustrates recommended.\n",
    "\n",
    "The dataset includes 19,314 entries labelled as 1 and only 4,172 entries labelled as 0, indicating an imbalance in the dataset. There are 845 Review Texts with no content and no missing values in Recommended IND. The length of the strings in the Review Text ranges from 0 to 120 words, with the distribution not following a normal distribution. Reviews of 90-100 words are the most common. Reviews shorter than 10 words or longer than 110 words are very rare, indicating that most of the reviews in the dataset are meaningful, with relatively few noisy comments. Simultaneously, customers' reviews for Recommended IND 0 and 1 have similar length distributions, so there is no need to differentiate between the two labels regarding comment length.\n",
    "\n",
    "Since the Review Text is the only feature for training this model and it is in the form of variable-length text, it cannot be filled using mean values or other methods. At the same time, missing data only accounts for 3.6% of the total data, so deleting these data will not significantly impact model training. However, the remaining data still suffers from severe imbalance, which needs to be addressed in subsequent processing steps."
   ]
  },
  {
   "cell_type": "markdown",
   "id": "cb0a0587",
   "metadata": {},
   "source": [
    "## Objectives of the project"
   ]
  },
  {
   "cell_type": "markdown",
   "id": "d993ba25",
   "metadata": {},
   "source": [
    "The aim of this project is to train a Natural Language Processing (NLP) classifier that can automatically determine whether a customer recommends purchasing a garment based on their review. To achieve this goal, the project is structured into four objectives:\n",
    "\n",
    "Objective 1: Data Acquisition, Loading, and Display\n",
    "The first step involves locating, loading, and presenting the dataset. This phase is crucial for understanding the data's structure and preparing for subsequent processing.\n",
    "\n",
    "Objective 2: Data Cleaning and Preprocessing\n",
    "The dataset will be cleaned and preprocessed, which includes handling missing data, cleaning natural language data, performing lemmatisation, and transforming text into arrays using Word2Vec. Lemmatisation is preferred over stemming for its ability to retain more complete and accurate word information, which is crucial for deep textual analysis. Since real-time model updates are not required for this project, the trade-off of slightly slower processing speed for accuracy is justified. Word2Vec is chosen for its efficiency and ability to capture the relationships between word meanings, which is vital for sentiment analysis.\n",
    "\n",
    "Objective 3: Training NLP Classifiers\n",
    "The core of the project involves training classifiers on the dataset. A Support Vector Machine (SVM) model will be used due to its competence in handling high-dimensional data and nonlinear relationships, making it suitable for this classifier. Additionally, a Naive Bayes model will be trained as a baseline model for comparative purposes.\n",
    "\n",
    "Objective 4: Model Evaluation and Comparison\n",
    "The final step is to evaluate the SVM model and compare its performance against the baseline model. This evaluation will help determine the effectiveness of the SVM in accurately predicting customer recommendations based on their reviews.\n",
    "\n",
    "By the end of this project, a model capable of automatically interpreting customer sentiment and recommendations from text reviews will be established, offering valuable insights for e-commerce and online retail sectors.\n"
   ]
  },
  {
   "cell_type": "markdown",
   "id": "93885d18",
   "metadata": {},
   "source": [
    "## Evaluation methodology"
   ]
  },
  {
   "cell_type": "markdown",
   "id": "488ba30c",
   "metadata": {},
   "source": [
    "To evaluate the performance of the models, the following metrics will be used:\n",
    "\n",
    "Confusion Matrix: This provides a visual representation of the performance of the classifier. It shows the distribution of True Positives, True Negatives, False Positives, and False Negatives. Given the potential imbalance in the dataset with fewer labels of '0', the confusion matrix becomes an essential tool to understand how well the model distinguishes between the classes.\n",
    "\n",
    "Precision Score: Precision is crucial for this project as it indicates the accuracy of positive predictions. It measures the ratio of correctly predicted positive observations to the total predicted positives. This metric is particularly important when the cost of False Positives is high.\n",
    "\n",
    "Recall Score: Also known as Sensitivity or True Positive Rate, recall is necessary for this dataset as it measures the ratio of correctly predicted positive observations to the all observations in actual class '1'. This metric is important when the cost of False Negatives is high, which is a concern due to the fewer labels of '0' in the dataset.\n",
    "\n",
    "F1-Score: The F1-Score is the weighted average of Precision and Recall. Therefore, this score takes both False Positives and False Negatives into account. It is a useful measure when seeking a balance between Precision and Recall, especially in an imbalanced dataset.\n",
    "\n",
    "ROC-AUC Score: The Receiver Operating Characteristic (ROC) curve is a plot of the True Positive Rate against the False Positive Rate at various threshold settings. The Area Under the Curve (AUC) represents the degree or measure of separability. It tells how much the model is capable of distinguishing between classes. The higher the AUC, the better the model is at predicting '0s' as '0s' and '1s' as '1s'. The AUC-ROC is a crucial measure of the model's performance for an imbalanced dataset.\n",
    "\n",
    "By employing these metrics, a comprehensive assessment of the SVM model's performance can be made, especially in comparison to the Naïve Bayes baseline model. This approach will provide a thorough understanding of the strengths and weaknesses of the models in handling the imbalanced dataset and predicting customer recommendations based on their reviews.\n"
   ]
  },
  {
   "cell_type": "markdown",
   "id": "a542b989",
   "metadata": {},
   "source": [
    "# Dataset Pre-processing"
   ]
  },
  {
   "cell_type": "markdown",
   "id": "959b652c",
   "metadata": {},
   "source": [
    "### Clean-up the review text"
   ]
  },
  {
   "cell_type": "code",
   "execution_count": 10,
   "id": "0b465d94",
   "metadata": {},
   "outputs": [],
   "source": [
    "def clean_text(text):\n",
    "    \"\"\"A function to remove all punctuation, special characters within the text\"\"\"\n",
    "    text = re.sub(r'http\\S+', '', text)  \n",
    "    text = re.sub(r'<.*?>', '', text)\n",
    "    text = re.sub(r'[^A-Za-z\\s]', '', text)\n",
    "    return text"
   ]
  },
  {
   "cell_type": "code",
   "execution_count": 11,
   "id": "b09df62d",
   "metadata": {},
   "outputs": [
    {
     "data": {
      "text/html": [
       "<div>\n",
       "<style scoped>\n",
       "    .dataframe tbody tr th:only-of-type {\n",
       "        vertical-align: middle;\n",
       "    }\n",
       "\n",
       "    .dataframe tbody tr th {\n",
       "        vertical-align: top;\n",
       "    }\n",
       "\n",
       "    .dataframe thead th {\n",
       "        text-align: right;\n",
       "    }\n",
       "</style>\n",
       "<table border=\"1\" class=\"dataframe\">\n",
       "  <thead>\n",
       "    <tr style=\"text-align: right;\">\n",
       "      <th></th>\n",
       "      <th>Clothing ID</th>\n",
       "      <th>Age</th>\n",
       "      <th>Title</th>\n",
       "      <th>Review Text</th>\n",
       "      <th>Rating</th>\n",
       "      <th>Recommended IND</th>\n",
       "      <th>Positive Feedback Count</th>\n",
       "      <th>Division Name</th>\n",
       "      <th>Department Name</th>\n",
       "      <th>Class Name</th>\n",
       "      <th>Review Text Cleaned</th>\n",
       "    </tr>\n",
       "  </thead>\n",
       "  <tbody>\n",
       "    <tr>\n",
       "      <th>0</th>\n",
       "      <td>767</td>\n",
       "      <td>33</td>\n",
       "      <td>NaN</td>\n",
       "      <td>Absolutely wonderful - silky and sexy and comf...</td>\n",
       "      <td>4</td>\n",
       "      <td>1</td>\n",
       "      <td>0</td>\n",
       "      <td>Initmates</td>\n",
       "      <td>Intimate</td>\n",
       "      <td>Intimates</td>\n",
       "      <td>Absolutely wonderful  silky and sexy and comfo...</td>\n",
       "    </tr>\n",
       "    <tr>\n",
       "      <th>1</th>\n",
       "      <td>1080</td>\n",
       "      <td>34</td>\n",
       "      <td>NaN</td>\n",
       "      <td>Love this dress!  it's sooo pretty.  i happene...</td>\n",
       "      <td>5</td>\n",
       "      <td>1</td>\n",
       "      <td>4</td>\n",
       "      <td>General</td>\n",
       "      <td>Dresses</td>\n",
       "      <td>Dresses</td>\n",
       "      <td>Love this dress  its sooo pretty  i happened t...</td>\n",
       "    </tr>\n",
       "    <tr>\n",
       "      <th>2</th>\n",
       "      <td>1077</td>\n",
       "      <td>60</td>\n",
       "      <td>Some major design flaws</td>\n",
       "      <td>I had such high hopes for this dress and reall...</td>\n",
       "      <td>3</td>\n",
       "      <td>0</td>\n",
       "      <td>0</td>\n",
       "      <td>General</td>\n",
       "      <td>Dresses</td>\n",
       "      <td>Dresses</td>\n",
       "      <td>I had such high hopes for this dress and reall...</td>\n",
       "    </tr>\n",
       "    <tr>\n",
       "      <th>3</th>\n",
       "      <td>1049</td>\n",
       "      <td>50</td>\n",
       "      <td>My favorite buy!</td>\n",
       "      <td>I love, love, love this jumpsuit. it's fun, fl...</td>\n",
       "      <td>5</td>\n",
       "      <td>1</td>\n",
       "      <td>0</td>\n",
       "      <td>General Petite</td>\n",
       "      <td>Bottoms</td>\n",
       "      <td>Pants</td>\n",
       "      <td>I love love love this jumpsuit its fun flirty ...</td>\n",
       "    </tr>\n",
       "    <tr>\n",
       "      <th>4</th>\n",
       "      <td>847</td>\n",
       "      <td>47</td>\n",
       "      <td>Flattering shirt</td>\n",
       "      <td>This shirt is very flattering to all due to th...</td>\n",
       "      <td>5</td>\n",
       "      <td>1</td>\n",
       "      <td>6</td>\n",
       "      <td>General</td>\n",
       "      <td>Tops</td>\n",
       "      <td>Blouses</td>\n",
       "      <td>This shirt is very flattering to all due to th...</td>\n",
       "    </tr>\n",
       "    <tr>\n",
       "      <th>...</th>\n",
       "      <td>...</td>\n",
       "      <td>...</td>\n",
       "      <td>...</td>\n",
       "      <td>...</td>\n",
       "      <td>...</td>\n",
       "      <td>...</td>\n",
       "      <td>...</td>\n",
       "      <td>...</td>\n",
       "      <td>...</td>\n",
       "      <td>...</td>\n",
       "      <td>...</td>\n",
       "    </tr>\n",
       "    <tr>\n",
       "      <th>23481</th>\n",
       "      <td>1104</td>\n",
       "      <td>34</td>\n",
       "      <td>Great dress for many occasions</td>\n",
       "      <td>I was very happy to snag this dress at such a ...</td>\n",
       "      <td>5</td>\n",
       "      <td>1</td>\n",
       "      <td>0</td>\n",
       "      <td>General Petite</td>\n",
       "      <td>Dresses</td>\n",
       "      <td>Dresses</td>\n",
       "      <td>I was very happy to snag this dress at such a ...</td>\n",
       "    </tr>\n",
       "    <tr>\n",
       "      <th>23482</th>\n",
       "      <td>862</td>\n",
       "      <td>48</td>\n",
       "      <td>Wish it was made of cotton</td>\n",
       "      <td>It reminds me of maternity clothes. soft, stre...</td>\n",
       "      <td>3</td>\n",
       "      <td>1</td>\n",
       "      <td>0</td>\n",
       "      <td>General Petite</td>\n",
       "      <td>Tops</td>\n",
       "      <td>Knits</td>\n",
       "      <td>It reminds me of maternity clothes soft stretc...</td>\n",
       "    </tr>\n",
       "    <tr>\n",
       "      <th>23483</th>\n",
       "      <td>1104</td>\n",
       "      <td>31</td>\n",
       "      <td>Cute, but see through</td>\n",
       "      <td>This fit well, but the top was very see throug...</td>\n",
       "      <td>3</td>\n",
       "      <td>0</td>\n",
       "      <td>1</td>\n",
       "      <td>General Petite</td>\n",
       "      <td>Dresses</td>\n",
       "      <td>Dresses</td>\n",
       "      <td>This fit well but the top was very see through...</td>\n",
       "    </tr>\n",
       "    <tr>\n",
       "      <th>23484</th>\n",
       "      <td>1084</td>\n",
       "      <td>28</td>\n",
       "      <td>Very cute dress, perfect for summer parties an...</td>\n",
       "      <td>I bought this dress for a wedding i have this ...</td>\n",
       "      <td>3</td>\n",
       "      <td>1</td>\n",
       "      <td>2</td>\n",
       "      <td>General</td>\n",
       "      <td>Dresses</td>\n",
       "      <td>Dresses</td>\n",
       "      <td>I bought this dress for a wedding i have this ...</td>\n",
       "    </tr>\n",
       "    <tr>\n",
       "      <th>23485</th>\n",
       "      <td>1104</td>\n",
       "      <td>52</td>\n",
       "      <td>Please make more like this one!</td>\n",
       "      <td>This dress in a lovely platinum is feminine an...</td>\n",
       "      <td>5</td>\n",
       "      <td>1</td>\n",
       "      <td>22</td>\n",
       "      <td>General Petite</td>\n",
       "      <td>Dresses</td>\n",
       "      <td>Dresses</td>\n",
       "      <td>This dress in a lovely platinum is feminine an...</td>\n",
       "    </tr>\n",
       "  </tbody>\n",
       "</table>\n",
       "<p>22641 rows × 11 columns</p>\n",
       "</div>"
      ],
      "text/plain": [
       "       Clothing ID  Age                                              Title  \\\n",
       "0              767   33                                                NaN   \n",
       "1             1080   34                                                NaN   \n",
       "2             1077   60                            Some major design flaws   \n",
       "3             1049   50                                   My favorite buy!   \n",
       "4              847   47                                   Flattering shirt   \n",
       "...            ...  ...                                                ...   \n",
       "23481         1104   34                     Great dress for many occasions   \n",
       "23482          862   48                         Wish it was made of cotton   \n",
       "23483         1104   31                              Cute, but see through   \n",
       "23484         1084   28  Very cute dress, perfect for summer parties an...   \n",
       "23485         1104   52                    Please make more like this one!   \n",
       "\n",
       "                                             Review Text  Rating  \\\n",
       "0      Absolutely wonderful - silky and sexy and comf...       4   \n",
       "1      Love this dress!  it's sooo pretty.  i happene...       5   \n",
       "2      I had such high hopes for this dress and reall...       3   \n",
       "3      I love, love, love this jumpsuit. it's fun, fl...       5   \n",
       "4      This shirt is very flattering to all due to th...       5   \n",
       "...                                                  ...     ...   \n",
       "23481  I was very happy to snag this dress at such a ...       5   \n",
       "23482  It reminds me of maternity clothes. soft, stre...       3   \n",
       "23483  This fit well, but the top was very see throug...       3   \n",
       "23484  I bought this dress for a wedding i have this ...       3   \n",
       "23485  This dress in a lovely platinum is feminine an...       5   \n",
       "\n",
       "       Recommended IND  Positive Feedback Count   Division Name  \\\n",
       "0                    1                        0       Initmates   \n",
       "1                    1                        4         General   \n",
       "2                    0                        0         General   \n",
       "3                    1                        0  General Petite   \n",
       "4                    1                        6         General   \n",
       "...                ...                      ...             ...   \n",
       "23481                1                        0  General Petite   \n",
       "23482                1                        0  General Petite   \n",
       "23483                0                        1  General Petite   \n",
       "23484                1                        2         General   \n",
       "23485                1                       22  General Petite   \n",
       "\n",
       "      Department Name Class Name  \\\n",
       "0            Intimate  Intimates   \n",
       "1             Dresses    Dresses   \n",
       "2             Dresses    Dresses   \n",
       "3             Bottoms      Pants   \n",
       "4                Tops    Blouses   \n",
       "...               ...        ...   \n",
       "23481         Dresses    Dresses   \n",
       "23482            Tops      Knits   \n",
       "23483         Dresses    Dresses   \n",
       "23484         Dresses    Dresses   \n",
       "23485         Dresses    Dresses   \n",
       "\n",
       "                                     Review Text Cleaned  \n",
       "0      Absolutely wonderful  silky and sexy and comfo...  \n",
       "1      Love this dress  its sooo pretty  i happened t...  \n",
       "2      I had such high hopes for this dress and reall...  \n",
       "3      I love love love this jumpsuit its fun flirty ...  \n",
       "4      This shirt is very flattering to all due to th...  \n",
       "...                                                  ...  \n",
       "23481  I was very happy to snag this dress at such a ...  \n",
       "23482  It reminds me of maternity clothes soft stretc...  \n",
       "23483  This fit well but the top was very see through...  \n",
       "23484  I bought this dress for a wedding i have this ...  \n",
       "23485  This dress in a lovely platinum is feminine an...  \n",
       "\n",
       "[22641 rows x 11 columns]"
      ]
     },
     "execution_count": 11,
     "metadata": {},
     "output_type": "execute_result"
    }
   ],
   "source": [
    "# Apply the function to cleanup the review text\n",
    "clothes_review_text_clean=clothes_review_clean.copy()\n",
    "clothes_review_text_clean['Review Text Cleaned'] = clothes_review_text_clean['Review Text'].apply(clean_text)\n",
    "clothes_review_text_clean"
   ]
  },
  {
   "cell_type": "markdown",
   "id": "24ef835d",
   "metadata": {},
   "source": [
    "### Double check any missing value within the text and class"
   ]
  },
  {
   "cell_type": "code",
   "execution_count": 12,
   "id": "c28a218c",
   "metadata": {},
   "outputs": [
    {
     "data": {
      "text/plain": [
       "False"
      ]
     },
     "execution_count": 12,
     "metadata": {},
     "output_type": "execute_result"
    }
   ],
   "source": [
    "# Double check any empty value within review text\n",
    "clothes_review_text_clean['Review Text Cleaned'].isnull().any()"
   ]
  },
  {
   "cell_type": "code",
   "execution_count": 13,
   "id": "b8d1c0d9",
   "metadata": {},
   "outputs": [
    {
     "data": {
      "text/plain": [
       "False"
      ]
     },
     "execution_count": 13,
     "metadata": {},
     "output_type": "execute_result"
    }
   ],
   "source": [
    "# Double check any empty value within recommend IND\n",
    "clothes_review_text_clean['Recommended IND'].isnull().any()"
   ]
  },
  {
   "cell_type": "markdown",
   "id": "988f3cd2",
   "metadata": {},
   "source": [
    "### Normalisation the text "
   ]
  },
  {
   "cell_type": "markdown",
   "id": "62546b73",
   "metadata": {},
   "source": [
    "I choose the lemmatisation the text due to I want to analysis sentiment of a text and lemmatisation although costs more resource but this method would retain the actual meaning of the text better than simply stemming. This advantage will be useful in the following sentiment analysis model build up."
   ]
  },
  {
   "cell_type": "code",
   "execution_count": 14,
   "id": "7ad59b44",
   "metadata": {},
   "outputs": [],
   "source": [
    "# Initialize the package for Lemmatisation\n",
    "lemmatisation = WordNetLemmatizer()"
   ]
  },
  {
   "cell_type": "code",
   "execution_count": 15,
   "id": "bb21f3b8",
   "metadata": {},
   "outputs": [],
   "source": [
    "def normalise_text(text):\n",
    "    \"\"\"This function will normalise the text format into lowercase and lemmatisation the words\"\"\"\n",
    "    # Transfer into lowercase\n",
    "    text = text.lower()\n",
    "    # Split the context into individual words\n",
    "    words = text.split()\n",
    "    # Delete the stop word\n",
    "    words = [word for word in words if word not in stopwords.words('english')]\n",
    "    # lemmatisation\n",
    "    words = [lemmatisation.lemmatize(word) for word in words] \n",
    "    # combine into a new text\n",
    "    text = ' '.join(words)\n",
    "    return text"
   ]
  },
  {
   "cell_type": "code",
   "execution_count": 16,
   "id": "de83c272",
   "metadata": {},
   "outputs": [
    {
     "data": {
      "text/html": [
       "<div>\n",
       "<style scoped>\n",
       "    .dataframe tbody tr th:only-of-type {\n",
       "        vertical-align: middle;\n",
       "    }\n",
       "\n",
       "    .dataframe tbody tr th {\n",
       "        vertical-align: top;\n",
       "    }\n",
       "\n",
       "    .dataframe thead th {\n",
       "        text-align: right;\n",
       "    }\n",
       "</style>\n",
       "<table border=\"1\" class=\"dataframe\">\n",
       "  <thead>\n",
       "    <tr style=\"text-align: right;\">\n",
       "      <th></th>\n",
       "      <th>Clothing ID</th>\n",
       "      <th>Age</th>\n",
       "      <th>Title</th>\n",
       "      <th>Review Text</th>\n",
       "      <th>Rating</th>\n",
       "      <th>Recommended IND</th>\n",
       "      <th>Positive Feedback Count</th>\n",
       "      <th>Division Name</th>\n",
       "      <th>Department Name</th>\n",
       "      <th>Class Name</th>\n",
       "      <th>Review Text Cleaned</th>\n",
       "      <th>Review Text norm</th>\n",
       "    </tr>\n",
       "  </thead>\n",
       "  <tbody>\n",
       "    <tr>\n",
       "      <th>0</th>\n",
       "      <td>767</td>\n",
       "      <td>33</td>\n",
       "      <td>NaN</td>\n",
       "      <td>Absolutely wonderful - silky and sexy and comf...</td>\n",
       "      <td>4</td>\n",
       "      <td>1</td>\n",
       "      <td>0</td>\n",
       "      <td>Initmates</td>\n",
       "      <td>Intimate</td>\n",
       "      <td>Intimates</td>\n",
       "      <td>Absolutely wonderful  silky and sexy and comfo...</td>\n",
       "      <td>absolutely wonderful silky sexy comfortable</td>\n",
       "    </tr>\n",
       "    <tr>\n",
       "      <th>1</th>\n",
       "      <td>1080</td>\n",
       "      <td>34</td>\n",
       "      <td>NaN</td>\n",
       "      <td>Love this dress!  it's sooo pretty.  i happene...</td>\n",
       "      <td>5</td>\n",
       "      <td>1</td>\n",
       "      <td>4</td>\n",
       "      <td>General</td>\n",
       "      <td>Dresses</td>\n",
       "      <td>Dresses</td>\n",
       "      <td>Love this dress  its sooo pretty  i happened t...</td>\n",
       "      <td>love dress sooo pretty happened find store im ...</td>\n",
       "    </tr>\n",
       "    <tr>\n",
       "      <th>2</th>\n",
       "      <td>1077</td>\n",
       "      <td>60</td>\n",
       "      <td>Some major design flaws</td>\n",
       "      <td>I had such high hopes for this dress and reall...</td>\n",
       "      <td>3</td>\n",
       "      <td>0</td>\n",
       "      <td>0</td>\n",
       "      <td>General</td>\n",
       "      <td>Dresses</td>\n",
       "      <td>Dresses</td>\n",
       "      <td>I had such high hopes for this dress and reall...</td>\n",
       "      <td>high hope dress really wanted work initially o...</td>\n",
       "    </tr>\n",
       "    <tr>\n",
       "      <th>3</th>\n",
       "      <td>1049</td>\n",
       "      <td>50</td>\n",
       "      <td>My favorite buy!</td>\n",
       "      <td>I love, love, love this jumpsuit. it's fun, fl...</td>\n",
       "      <td>5</td>\n",
       "      <td>1</td>\n",
       "      <td>0</td>\n",
       "      <td>General Petite</td>\n",
       "      <td>Bottoms</td>\n",
       "      <td>Pants</td>\n",
       "      <td>I love love love this jumpsuit its fun flirty ...</td>\n",
       "      <td>love love love jumpsuit fun flirty fabulous ev...</td>\n",
       "    </tr>\n",
       "    <tr>\n",
       "      <th>4</th>\n",
       "      <td>847</td>\n",
       "      <td>47</td>\n",
       "      <td>Flattering shirt</td>\n",
       "      <td>This shirt is very flattering to all due to th...</td>\n",
       "      <td>5</td>\n",
       "      <td>1</td>\n",
       "      <td>6</td>\n",
       "      <td>General</td>\n",
       "      <td>Tops</td>\n",
       "      <td>Blouses</td>\n",
       "      <td>This shirt is very flattering to all due to th...</td>\n",
       "      <td>shirt flattering due adjustable front tie perf...</td>\n",
       "    </tr>\n",
       "    <tr>\n",
       "      <th>...</th>\n",
       "      <td>...</td>\n",
       "      <td>...</td>\n",
       "      <td>...</td>\n",
       "      <td>...</td>\n",
       "      <td>...</td>\n",
       "      <td>...</td>\n",
       "      <td>...</td>\n",
       "      <td>...</td>\n",
       "      <td>...</td>\n",
       "      <td>...</td>\n",
       "      <td>...</td>\n",
       "      <td>...</td>\n",
       "    </tr>\n",
       "    <tr>\n",
       "      <th>23481</th>\n",
       "      <td>1104</td>\n",
       "      <td>34</td>\n",
       "      <td>Great dress for many occasions</td>\n",
       "      <td>I was very happy to snag this dress at such a ...</td>\n",
       "      <td>5</td>\n",
       "      <td>1</td>\n",
       "      <td>0</td>\n",
       "      <td>General Petite</td>\n",
       "      <td>Dresses</td>\n",
       "      <td>Dresses</td>\n",
       "      <td>I was very happy to snag this dress at such a ...</td>\n",
       "      <td>happy snag dress great price easy slip flatter...</td>\n",
       "    </tr>\n",
       "    <tr>\n",
       "      <th>23482</th>\n",
       "      <td>862</td>\n",
       "      <td>48</td>\n",
       "      <td>Wish it was made of cotton</td>\n",
       "      <td>It reminds me of maternity clothes. soft, stre...</td>\n",
       "      <td>3</td>\n",
       "      <td>1</td>\n",
       "      <td>0</td>\n",
       "      <td>General Petite</td>\n",
       "      <td>Tops</td>\n",
       "      <td>Knits</td>\n",
       "      <td>It reminds me of maternity clothes soft stretc...</td>\n",
       "      <td>reminds maternity clothes soft stretchy shiny ...</td>\n",
       "    </tr>\n",
       "    <tr>\n",
       "      <th>23483</th>\n",
       "      <td>1104</td>\n",
       "      <td>31</td>\n",
       "      <td>Cute, but see through</td>\n",
       "      <td>This fit well, but the top was very see throug...</td>\n",
       "      <td>3</td>\n",
       "      <td>0</td>\n",
       "      <td>1</td>\n",
       "      <td>General Petite</td>\n",
       "      <td>Dresses</td>\n",
       "      <td>Dresses</td>\n",
       "      <td>This fit well but the top was very see through...</td>\n",
       "      <td>fit well top see never would worked im glad ab...</td>\n",
       "    </tr>\n",
       "    <tr>\n",
       "      <th>23484</th>\n",
       "      <td>1084</td>\n",
       "      <td>28</td>\n",
       "      <td>Very cute dress, perfect for summer parties an...</td>\n",
       "      <td>I bought this dress for a wedding i have this ...</td>\n",
       "      <td>3</td>\n",
       "      <td>1</td>\n",
       "      <td>2</td>\n",
       "      <td>General</td>\n",
       "      <td>Dresses</td>\n",
       "      <td>Dresses</td>\n",
       "      <td>I bought this dress for a wedding i have this ...</td>\n",
       "      <td>bought dress wedding summer cute unfortunately...</td>\n",
       "    </tr>\n",
       "    <tr>\n",
       "      <th>23485</th>\n",
       "      <td>1104</td>\n",
       "      <td>52</td>\n",
       "      <td>Please make more like this one!</td>\n",
       "      <td>This dress in a lovely platinum is feminine an...</td>\n",
       "      <td>5</td>\n",
       "      <td>1</td>\n",
       "      <td>22</td>\n",
       "      <td>General Petite</td>\n",
       "      <td>Dresses</td>\n",
       "      <td>Dresses</td>\n",
       "      <td>This dress in a lovely platinum is feminine an...</td>\n",
       "      <td>dress lovely platinum feminine fit perfectly e...</td>\n",
       "    </tr>\n",
       "  </tbody>\n",
       "</table>\n",
       "<p>22641 rows × 12 columns</p>\n",
       "</div>"
      ],
      "text/plain": [
       "       Clothing ID  Age                                              Title  \\\n",
       "0              767   33                                                NaN   \n",
       "1             1080   34                                                NaN   \n",
       "2             1077   60                            Some major design flaws   \n",
       "3             1049   50                                   My favorite buy!   \n",
       "4              847   47                                   Flattering shirt   \n",
       "...            ...  ...                                                ...   \n",
       "23481         1104   34                     Great dress for many occasions   \n",
       "23482          862   48                         Wish it was made of cotton   \n",
       "23483         1104   31                              Cute, but see through   \n",
       "23484         1084   28  Very cute dress, perfect for summer parties an...   \n",
       "23485         1104   52                    Please make more like this one!   \n",
       "\n",
       "                                             Review Text  Rating  \\\n",
       "0      Absolutely wonderful - silky and sexy and comf...       4   \n",
       "1      Love this dress!  it's sooo pretty.  i happene...       5   \n",
       "2      I had such high hopes for this dress and reall...       3   \n",
       "3      I love, love, love this jumpsuit. it's fun, fl...       5   \n",
       "4      This shirt is very flattering to all due to th...       5   \n",
       "...                                                  ...     ...   \n",
       "23481  I was very happy to snag this dress at such a ...       5   \n",
       "23482  It reminds me of maternity clothes. soft, stre...       3   \n",
       "23483  This fit well, but the top was very see throug...       3   \n",
       "23484  I bought this dress for a wedding i have this ...       3   \n",
       "23485  This dress in a lovely platinum is feminine an...       5   \n",
       "\n",
       "       Recommended IND  Positive Feedback Count   Division Name  \\\n",
       "0                    1                        0       Initmates   \n",
       "1                    1                        4         General   \n",
       "2                    0                        0         General   \n",
       "3                    1                        0  General Petite   \n",
       "4                    1                        6         General   \n",
       "...                ...                      ...             ...   \n",
       "23481                1                        0  General Petite   \n",
       "23482                1                        0  General Petite   \n",
       "23483                0                        1  General Petite   \n",
       "23484                1                        2         General   \n",
       "23485                1                       22  General Petite   \n",
       "\n",
       "      Department Name Class Name  \\\n",
       "0            Intimate  Intimates   \n",
       "1             Dresses    Dresses   \n",
       "2             Dresses    Dresses   \n",
       "3             Bottoms      Pants   \n",
       "4                Tops    Blouses   \n",
       "...               ...        ...   \n",
       "23481         Dresses    Dresses   \n",
       "23482            Tops      Knits   \n",
       "23483         Dresses    Dresses   \n",
       "23484         Dresses    Dresses   \n",
       "23485         Dresses    Dresses   \n",
       "\n",
       "                                     Review Text Cleaned  \\\n",
       "0      Absolutely wonderful  silky and sexy and comfo...   \n",
       "1      Love this dress  its sooo pretty  i happened t...   \n",
       "2      I had such high hopes for this dress and reall...   \n",
       "3      I love love love this jumpsuit its fun flirty ...   \n",
       "4      This shirt is very flattering to all due to th...   \n",
       "...                                                  ...   \n",
       "23481  I was very happy to snag this dress at such a ...   \n",
       "23482  It reminds me of maternity clothes soft stretc...   \n",
       "23483  This fit well but the top was very see through...   \n",
       "23484  I bought this dress for a wedding i have this ...   \n",
       "23485  This dress in a lovely platinum is feminine an...   \n",
       "\n",
       "                                        Review Text norm  \n",
       "0            absolutely wonderful silky sexy comfortable  \n",
       "1      love dress sooo pretty happened find store im ...  \n",
       "2      high hope dress really wanted work initially o...  \n",
       "3      love love love jumpsuit fun flirty fabulous ev...  \n",
       "4      shirt flattering due adjustable front tie perf...  \n",
       "...                                                  ...  \n",
       "23481  happy snag dress great price easy slip flatter...  \n",
       "23482  reminds maternity clothes soft stretchy shiny ...  \n",
       "23483  fit well top see never would worked im glad ab...  \n",
       "23484  bought dress wedding summer cute unfortunately...  \n",
       "23485  dress lovely platinum feminine fit perfectly e...  \n",
       "\n",
       "[22641 rows x 12 columns]"
      ]
     },
     "execution_count": 16,
     "metadata": {},
     "output_type": "execute_result"
    }
   ],
   "source": [
    "# Apply normalisation function to the cleaned text\n",
    "clothes_review_text_normalised=clothes_review_text_clean.copy()\n",
    "clothes_review_text_normalised['Review Text norm'] = clothes_review_text_normalised['Review Text Cleaned'].apply(normalise_text)\n",
    "clothes_review_text_normalised"
   ]
  },
  {
   "cell_type": "code",
   "execution_count": 17,
   "id": "b86963f0",
   "metadata": {},
   "outputs": [],
   "source": [
    "clothes_review_text_normalised.to_csv('clothes_review_lemmatized.csv')"
   ]
  },
  {
   "cell_type": "markdown",
   "id": "5bf21c27",
   "metadata": {},
   "source": [
    "### Text representation"
   ]
  },
  {
   "cell_type": "markdown",
   "id": "c8d98765",
   "metadata": {},
   "source": [
    "First split training and testing dataset"
   ]
  },
  {
   "cell_type": "code",
   "execution_count": 18,
   "id": "609fa93f",
   "metadata": {},
   "outputs": [],
   "source": [
    "#Split training and test set as ratio 8:2\n",
    "X_train, X_test, y_train, y_test = train_test_split(clothes_review_text_normalised[\"Review Text norm\"],clothes_review_text_normalised[\"Recommended IND\"],test_size=0.2,shuffle=True)"
   ]
  },
  {
   "cell_type": "code",
   "execution_count": 19,
   "id": "56ff9172",
   "metadata": {
    "scrolled": true
   },
   "outputs": [
    {
     "data": {
      "text/plain": [
       "12812    love first saw online thought bit pricey plain...\n",
       "18116    first jean fit really well usually wear mother...\n",
       "1941     like many issue tried normal size x couldnt ge...\n",
       "2506     comfortable wear wear season run true size nic...\n",
       "9264     typically order petite clothingi unsure dresst...\n",
       "                               ...                        \n",
       "16939    problem neck although pretty button detail bac...\n",
       "5227           love cord soft great fit bought three color\n",
       "17985    many retailer top day lot fabric tee hang fair...\n",
       "15904    gave star havent worn yet dont know fabric wea...\n",
       "6        aded basket hte last mintue see would look lik...\n",
       "Name: Review Text norm, Length: 18112, dtype: object"
      ]
     },
     "execution_count": 19,
     "metadata": {},
     "output_type": "execute_result"
    }
   ],
   "source": [
    "X_train"
   ]
  },
  {
   "cell_type": "code",
   "execution_count": 20,
   "id": "b9c6c883",
   "metadata": {
    "scrolled": true
   },
   "outputs": [
    {
     "data": {
      "text/plain": [
       "15844    color heft style quality perfect go one size s...\n",
       "15316    love dress spotted store yesterday right walki...\n",
       "11027    love top make sure size usually small blouse s...\n",
       "7173     love dress design gorgeous however bust extrem...\n",
       "451      vest warm soft actually fleece almost appears ...\n",
       "                               ...                        \n",
       "17508    skirt absolutely beautiful person metallic thr...\n",
       "4860     ordered red color way bird print cute said cut...\n",
       "2735     top caught eye right away obsessed everything ...\n",
       "8195     opened package loved skirt immediately held wa...\n",
       "13994    dress versatile cool comfortable summer one co...\n",
       "Name: Review Text norm, Length: 4529, dtype: object"
      ]
     },
     "execution_count": 20,
     "metadata": {},
     "output_type": "execute_result"
    }
   ],
   "source": [
    "X_test"
   ]
  },
  {
   "cell_type": "code",
   "execution_count": 21,
   "id": "90dd3ba8",
   "metadata": {
    "scrolled": true
   },
   "outputs": [
    {
     "data": {
      "text/plain": [
       "12812    1\n",
       "18116    1\n",
       "1941     1\n",
       "2506     1\n",
       "9264     1\n",
       "        ..\n",
       "16939    1\n",
       "5227     1\n",
       "17985    1\n",
       "15904    1\n",
       "6        1\n",
       "Name: Recommended IND, Length: 18112, dtype: int64"
      ]
     },
     "execution_count": 21,
     "metadata": {},
     "output_type": "execute_result"
    }
   ],
   "source": [
    "y_train"
   ]
  },
  {
   "cell_type": "code",
   "execution_count": 22,
   "id": "3db2d8b3",
   "metadata": {},
   "outputs": [
    {
     "data": {
      "text/plain": [
       "15844    1\n",
       "15316    1\n",
       "11027    1\n",
       "7173     0\n",
       "451      1\n",
       "        ..\n",
       "17508    1\n",
       "4860     0\n",
       "2735     1\n",
       "8195     1\n",
       "13994    1\n",
       "Name: Recommended IND, Length: 4529, dtype: int64"
      ]
     },
     "execution_count": 22,
     "metadata": {},
     "output_type": "execute_result"
    }
   ],
   "source": [
    "y_test"
   ]
  },
  {
   "cell_type": "markdown",
   "id": "d916ea7c",
   "metadata": {},
   "source": [
    "Due to I plan to use word2vec as text representation method; thus, I need to tokenize the word within the text aftert clean up."
   ]
  },
  {
   "cell_type": "code",
   "execution_count": 23,
   "id": "883eaeb1",
   "metadata": {},
   "outputs": [
    {
     "data": {
      "text/plain": [
       "12812    [love, first, saw, online, thought, bit, price...\n",
       "18116    [first, jean, fit, really, well, usually, wear...\n",
       "1941     [like, many, issue, tried, normal, size, x, co...\n",
       "2506     [comfortable, wear, wear, season, run, true, s...\n",
       "9264     [typically, order, petite, clothingi, unsure, ...\n",
       "                               ...                        \n",
       "16939    [problem, neck, although, pretty, button, deta...\n",
       "5227     [love, cord, soft, great, fit, bought, three, ...\n",
       "17985    [many, retailer, top, day, lot, fabric, tee, h...\n",
       "15904    [gave, star, havent, worn, yet, dont, know, fa...\n",
       "6        [aded, basket, hte, last, mintue, see, would, ...\n",
       "Name: Review Text norm, Length: 18112, dtype: object"
      ]
     },
     "execution_count": 23,
     "metadata": {},
     "output_type": "execute_result"
    }
   ],
   "source": [
    "# Training Text Tokenization\n",
    "X_train_token = X_train.apply(lambda x: word_tokenize(x))\n",
    "X_train_token"
   ]
  },
  {
   "cell_type": "code",
   "execution_count": 24,
   "id": "87a2847f",
   "metadata": {
    "scrolled": true
   },
   "outputs": [
    {
     "data": {
      "text/plain": [
       "15844    [color, heft, style, quality, perfect, go, one...\n",
       "15316    [love, dress, spotted, store, yesterday, right...\n",
       "11027    [love, top, make, sure, size, usually, small, ...\n",
       "7173     [love, dress, design, gorgeous, however, bust,...\n",
       "451      [vest, warm, soft, actually, fleece, almost, a...\n",
       "                               ...                        \n",
       "17508    [skirt, absolutely, beautiful, person, metalli...\n",
       "4860     [ordered, red, color, way, bird, print, cute, ...\n",
       "2735     [top, caught, eye, right, away, obsessed, ever...\n",
       "8195     [opened, package, loved, skirt, immediately, h...\n",
       "13994    [dress, versatile, cool, comfortable, summer, ...\n",
       "Name: Review Text norm, Length: 4529, dtype: object"
      ]
     },
     "execution_count": 24,
     "metadata": {},
     "output_type": "execute_result"
    }
   ],
   "source": [
    "# Testing Text Tokenization\n",
    "X_test_token = X_test.apply(lambda x: word_tokenize(x))\n",
    "X_test_token"
   ]
  },
  {
   "cell_type": "code",
   "execution_count": 25,
   "id": "d0d2cff6",
   "metadata": {},
   "outputs": [],
   "source": [
    "# Training word2vec model\n",
    "model_w2v = Word2Vec(X_train_token, vector_size=100, window=5, min_count=1, workers=4)"
   ]
  },
  {
   "cell_type": "code",
   "execution_count": 26,
   "id": "56367e77",
   "metadata": {},
   "outputs": [],
   "source": [
    "def document_vector(word_list, model):\n",
    "    \"\"\"generate the average w2v vector for each text\"\"\"\n",
    "    word_list = [word for word in word_list if word in model.wv.index_to_key]\n",
    "    if len(word_list) == 0:\n",
    "        return np.zeros(model.vector_size)\n",
    "    return np.mean(model.wv[word_list], axis=0)"
   ]
  },
  {
   "cell_type": "code",
   "execution_count": 27,
   "id": "4ce97e32",
   "metadata": {},
   "outputs": [],
   "source": [
    "# Using the trained W2V model for transformation \n",
    "X_train_w2v = [document_vector(doc, model_w2v) for doc in X_train_token]\n",
    "X_test_w2v = [document_vector(doc, model_w2v) for doc in X_test_token]"
   ]
  },
  {
   "cell_type": "markdown",
   "id": "003ebd02",
   "metadata": {},
   "source": [
    "# Training model"
   ]
  },
  {
   "cell_type": "markdown",
   "id": "09d3f2cd",
   "metadata": {},
   "source": [
    "## Naive Bayes model"
   ]
  },
  {
   "cell_type": "code",
   "execution_count": 28,
   "id": "5275dc45",
   "metadata": {},
   "outputs": [],
   "source": [
    "# Initialize the naive bayes model\n",
    "model_nb=GaussianNB()"
   ]
  },
  {
   "cell_type": "code",
   "execution_count": 29,
   "id": "b08c7e23",
   "metadata": {},
   "outputs": [
    {
     "data": {
      "text/html": [
       "<style>#sk-container-id-1 {color: black;}#sk-container-id-1 pre{padding: 0;}#sk-container-id-1 div.sk-toggleable {background-color: white;}#sk-container-id-1 label.sk-toggleable__label {cursor: pointer;display: block;width: 100%;margin-bottom: 0;padding: 0.3em;box-sizing: border-box;text-align: center;}#sk-container-id-1 label.sk-toggleable__label-arrow:before {content: \"▸\";float: left;margin-right: 0.25em;color: #696969;}#sk-container-id-1 label.sk-toggleable__label-arrow:hover:before {color: black;}#sk-container-id-1 div.sk-estimator:hover label.sk-toggleable__label-arrow:before {color: black;}#sk-container-id-1 div.sk-toggleable__content {max-height: 0;max-width: 0;overflow: hidden;text-align: left;background-color: #f0f8ff;}#sk-container-id-1 div.sk-toggleable__content pre {margin: 0.2em;color: black;border-radius: 0.25em;background-color: #f0f8ff;}#sk-container-id-1 input.sk-toggleable__control:checked~div.sk-toggleable__content {max-height: 200px;max-width: 100%;overflow: auto;}#sk-container-id-1 input.sk-toggleable__control:checked~label.sk-toggleable__label-arrow:before {content: \"▾\";}#sk-container-id-1 div.sk-estimator input.sk-toggleable__control:checked~label.sk-toggleable__label {background-color: #d4ebff;}#sk-container-id-1 div.sk-label input.sk-toggleable__control:checked~label.sk-toggleable__label {background-color: #d4ebff;}#sk-container-id-1 input.sk-hidden--visually {border: 0;clip: rect(1px 1px 1px 1px);clip: rect(1px, 1px, 1px, 1px);height: 1px;margin: -1px;overflow: hidden;padding: 0;position: absolute;width: 1px;}#sk-container-id-1 div.sk-estimator {font-family: monospace;background-color: #f0f8ff;border: 1px dotted black;border-radius: 0.25em;box-sizing: border-box;margin-bottom: 0.5em;}#sk-container-id-1 div.sk-estimator:hover {background-color: #d4ebff;}#sk-container-id-1 div.sk-parallel-item::after {content: \"\";width: 100%;border-bottom: 1px solid gray;flex-grow: 1;}#sk-container-id-1 div.sk-label:hover label.sk-toggleable__label {background-color: #d4ebff;}#sk-container-id-1 div.sk-serial::before {content: \"\";position: absolute;border-left: 1px solid gray;box-sizing: border-box;top: 0;bottom: 0;left: 50%;z-index: 0;}#sk-container-id-1 div.sk-serial {display: flex;flex-direction: column;align-items: center;background-color: white;padding-right: 0.2em;padding-left: 0.2em;position: relative;}#sk-container-id-1 div.sk-item {position: relative;z-index: 1;}#sk-container-id-1 div.sk-parallel {display: flex;align-items: stretch;justify-content: center;background-color: white;position: relative;}#sk-container-id-1 div.sk-item::before, #sk-container-id-1 div.sk-parallel-item::before {content: \"\";position: absolute;border-left: 1px solid gray;box-sizing: border-box;top: 0;bottom: 0;left: 50%;z-index: -1;}#sk-container-id-1 div.sk-parallel-item {display: flex;flex-direction: column;z-index: 1;position: relative;background-color: white;}#sk-container-id-1 div.sk-parallel-item:first-child::after {align-self: flex-end;width: 50%;}#sk-container-id-1 div.sk-parallel-item:last-child::after {align-self: flex-start;width: 50%;}#sk-container-id-1 div.sk-parallel-item:only-child::after {width: 0;}#sk-container-id-1 div.sk-dashed-wrapped {border: 1px dashed gray;margin: 0 0.4em 0.5em 0.4em;box-sizing: border-box;padding-bottom: 0.4em;background-color: white;}#sk-container-id-1 div.sk-label label {font-family: monospace;font-weight: bold;display: inline-block;line-height: 1.2em;}#sk-container-id-1 div.sk-label-container {text-align: center;}#sk-container-id-1 div.sk-container {/* jupyter's `normalize.less` sets `[hidden] { display: none; }` but bootstrap.min.css set `[hidden] { display: none !important; }` so we also need the `!important` here to be able to override the default hidden behavior on the sphinx rendered scikit-learn.org. See: https://github.com/scikit-learn/scikit-learn/issues/21755 */display: inline-block !important;position: relative;}#sk-container-id-1 div.sk-text-repr-fallback {display: none;}</style><div id=\"sk-container-id-1\" class=\"sk-top-container\"><div class=\"sk-text-repr-fallback\"><pre>GaussianNB()</pre><b>In a Jupyter environment, please rerun this cell to show the HTML representation or trust the notebook. <br />On GitHub, the HTML representation is unable to render, please try loading this page with nbviewer.org.</b></div><div class=\"sk-container\" hidden><div class=\"sk-item\"><div class=\"sk-estimator sk-toggleable\"><input class=\"sk-toggleable__control sk-hidden--visually\" id=\"sk-estimator-id-1\" type=\"checkbox\" checked><label for=\"sk-estimator-id-1\" class=\"sk-toggleable__label sk-toggleable__label-arrow\">GaussianNB</label><div class=\"sk-toggleable__content\"><pre>GaussianNB()</pre></div></div></div></div></div>"
      ],
      "text/plain": [
       "GaussianNB()"
      ]
     },
     "execution_count": 29,
     "metadata": {},
     "output_type": "execute_result"
    }
   ],
   "source": [
    "# Train the naive bayes model\n",
    "model_nb.fit(X_train_w2v,y_train)"
   ]
  },
  {
   "cell_type": "code",
   "execution_count": 30,
   "id": "fdf5f060",
   "metadata": {},
   "outputs": [],
   "source": [
    "# Use newly build naive bayes model to predict\n",
    "y_pred_nb=model_nb.predict(X_test_w2v)"
   ]
  },
  {
   "cell_type": "code",
   "execution_count": 31,
   "id": "fdcd9aa2",
   "metadata": {},
   "outputs": [
    {
     "data": {
      "text/plain": [
       "['model_nb_clothes.joblib']"
      ]
     },
     "execution_count": 31,
     "metadata": {},
     "output_type": "execute_result"
    }
   ],
   "source": [
    "joblib.dump(model_nb, 'model_nb_clothes.joblib')"
   ]
  },
  {
   "cell_type": "markdown",
   "id": "7f580749",
   "metadata": {},
   "source": [
    "## SVM model"
   ]
  },
  {
   "cell_type": "code",
   "execution_count": 32,
   "id": "ad30d2fb",
   "metadata": {},
   "outputs": [],
   "source": [
    "# Initialize svm model\n",
    "model_svm = svm.SVC(probability=True)"
   ]
  },
  {
   "cell_type": "code",
   "execution_count": 33,
   "id": "06e8ecf4",
   "metadata": {},
   "outputs": [],
   "source": [
    "# Setup grid search parameter\n",
    "param_grid = {\n",
    "    'C': [0.1, 1, 10, 100, 1000],\n",
    "    'gamma': [1, 0.1, 0.01, 0.001, 0.0001],\n",
    "    'kernel': ['rbf', 'poly', 'sigmoid', 'linear']\n",
    "}\n",
    "grid_search_svm = GridSearchCV(model_svm, param_grid, refit=True, verbose=2, cv=5, n_jobs=-1)"
   ]
  },
  {
   "cell_type": "code",
   "execution_count": 34,
   "id": "c3097dda",
   "metadata": {},
   "outputs": [
    {
     "name": "stdout",
     "output_type": "stream",
     "text": [
      "Fitting 5 folds for each of 100 candidates, totalling 500 fits\n"
     ]
    },
    {
     "data": {
      "text/html": [
       "<style>#sk-container-id-2 {color: black;}#sk-container-id-2 pre{padding: 0;}#sk-container-id-2 div.sk-toggleable {background-color: white;}#sk-container-id-2 label.sk-toggleable__label {cursor: pointer;display: block;width: 100%;margin-bottom: 0;padding: 0.3em;box-sizing: border-box;text-align: center;}#sk-container-id-2 label.sk-toggleable__label-arrow:before {content: \"▸\";float: left;margin-right: 0.25em;color: #696969;}#sk-container-id-2 label.sk-toggleable__label-arrow:hover:before {color: black;}#sk-container-id-2 div.sk-estimator:hover label.sk-toggleable__label-arrow:before {color: black;}#sk-container-id-2 div.sk-toggleable__content {max-height: 0;max-width: 0;overflow: hidden;text-align: left;background-color: #f0f8ff;}#sk-container-id-2 div.sk-toggleable__content pre {margin: 0.2em;color: black;border-radius: 0.25em;background-color: #f0f8ff;}#sk-container-id-2 input.sk-toggleable__control:checked~div.sk-toggleable__content {max-height: 200px;max-width: 100%;overflow: auto;}#sk-container-id-2 input.sk-toggleable__control:checked~label.sk-toggleable__label-arrow:before {content: \"▾\";}#sk-container-id-2 div.sk-estimator input.sk-toggleable__control:checked~label.sk-toggleable__label {background-color: #d4ebff;}#sk-container-id-2 div.sk-label input.sk-toggleable__control:checked~label.sk-toggleable__label {background-color: #d4ebff;}#sk-container-id-2 input.sk-hidden--visually {border: 0;clip: rect(1px 1px 1px 1px);clip: rect(1px, 1px, 1px, 1px);height: 1px;margin: -1px;overflow: hidden;padding: 0;position: absolute;width: 1px;}#sk-container-id-2 div.sk-estimator {font-family: monospace;background-color: #f0f8ff;border: 1px dotted black;border-radius: 0.25em;box-sizing: border-box;margin-bottom: 0.5em;}#sk-container-id-2 div.sk-estimator:hover {background-color: #d4ebff;}#sk-container-id-2 div.sk-parallel-item::after {content: \"\";width: 100%;border-bottom: 1px solid gray;flex-grow: 1;}#sk-container-id-2 div.sk-label:hover label.sk-toggleable__label {background-color: #d4ebff;}#sk-container-id-2 div.sk-serial::before {content: \"\";position: absolute;border-left: 1px solid gray;box-sizing: border-box;top: 0;bottom: 0;left: 50%;z-index: 0;}#sk-container-id-2 div.sk-serial {display: flex;flex-direction: column;align-items: center;background-color: white;padding-right: 0.2em;padding-left: 0.2em;position: relative;}#sk-container-id-2 div.sk-item {position: relative;z-index: 1;}#sk-container-id-2 div.sk-parallel {display: flex;align-items: stretch;justify-content: center;background-color: white;position: relative;}#sk-container-id-2 div.sk-item::before, #sk-container-id-2 div.sk-parallel-item::before {content: \"\";position: absolute;border-left: 1px solid gray;box-sizing: border-box;top: 0;bottom: 0;left: 50%;z-index: -1;}#sk-container-id-2 div.sk-parallel-item {display: flex;flex-direction: column;z-index: 1;position: relative;background-color: white;}#sk-container-id-2 div.sk-parallel-item:first-child::after {align-self: flex-end;width: 50%;}#sk-container-id-2 div.sk-parallel-item:last-child::after {align-self: flex-start;width: 50%;}#sk-container-id-2 div.sk-parallel-item:only-child::after {width: 0;}#sk-container-id-2 div.sk-dashed-wrapped {border: 1px dashed gray;margin: 0 0.4em 0.5em 0.4em;box-sizing: border-box;padding-bottom: 0.4em;background-color: white;}#sk-container-id-2 div.sk-label label {font-family: monospace;font-weight: bold;display: inline-block;line-height: 1.2em;}#sk-container-id-2 div.sk-label-container {text-align: center;}#sk-container-id-2 div.sk-container {/* jupyter's `normalize.less` sets `[hidden] { display: none; }` but bootstrap.min.css set `[hidden] { display: none !important; }` so we also need the `!important` here to be able to override the default hidden behavior on the sphinx rendered scikit-learn.org. See: https://github.com/scikit-learn/scikit-learn/issues/21755 */display: inline-block !important;position: relative;}#sk-container-id-2 div.sk-text-repr-fallback {display: none;}</style><div id=\"sk-container-id-2\" class=\"sk-top-container\"><div class=\"sk-text-repr-fallback\"><pre>GridSearchCV(cv=5, estimator=SVC(probability=True), n_jobs=-1,\n",
       "             param_grid={&#x27;C&#x27;: [0.1, 1, 10, 100, 1000],\n",
       "                         &#x27;gamma&#x27;: [1, 0.1, 0.01, 0.001, 0.0001],\n",
       "                         &#x27;kernel&#x27;: [&#x27;rbf&#x27;, &#x27;poly&#x27;, &#x27;sigmoid&#x27;, &#x27;linear&#x27;]},\n",
       "             verbose=2)</pre><b>In a Jupyter environment, please rerun this cell to show the HTML representation or trust the notebook. <br />On GitHub, the HTML representation is unable to render, please try loading this page with nbviewer.org.</b></div><div class=\"sk-container\" hidden><div class=\"sk-item sk-dashed-wrapped\"><div class=\"sk-label-container\"><div class=\"sk-label sk-toggleable\"><input class=\"sk-toggleable__control sk-hidden--visually\" id=\"sk-estimator-id-2\" type=\"checkbox\" ><label for=\"sk-estimator-id-2\" class=\"sk-toggleable__label sk-toggleable__label-arrow\">GridSearchCV</label><div class=\"sk-toggleable__content\"><pre>GridSearchCV(cv=5, estimator=SVC(probability=True), n_jobs=-1,\n",
       "             param_grid={&#x27;C&#x27;: [0.1, 1, 10, 100, 1000],\n",
       "                         &#x27;gamma&#x27;: [1, 0.1, 0.01, 0.001, 0.0001],\n",
       "                         &#x27;kernel&#x27;: [&#x27;rbf&#x27;, &#x27;poly&#x27;, &#x27;sigmoid&#x27;, &#x27;linear&#x27;]},\n",
       "             verbose=2)</pre></div></div></div><div class=\"sk-parallel\"><div class=\"sk-parallel-item\"><div class=\"sk-item\"><div class=\"sk-label-container\"><div class=\"sk-label sk-toggleable\"><input class=\"sk-toggleable__control sk-hidden--visually\" id=\"sk-estimator-id-3\" type=\"checkbox\" ><label for=\"sk-estimator-id-3\" class=\"sk-toggleable__label sk-toggleable__label-arrow\">estimator: SVC</label><div class=\"sk-toggleable__content\"><pre>SVC(probability=True)</pre></div></div></div><div class=\"sk-serial\"><div class=\"sk-item\"><div class=\"sk-estimator sk-toggleable\"><input class=\"sk-toggleable__control sk-hidden--visually\" id=\"sk-estimator-id-4\" type=\"checkbox\" ><label for=\"sk-estimator-id-4\" class=\"sk-toggleable__label sk-toggleable__label-arrow\">SVC</label><div class=\"sk-toggleable__content\"><pre>SVC(probability=True)</pre></div></div></div></div></div></div></div></div></div></div>"
      ],
      "text/plain": [
       "GridSearchCV(cv=5, estimator=SVC(probability=True), n_jobs=-1,\n",
       "             param_grid={'C': [0.1, 1, 10, 100, 1000],\n",
       "                         'gamma': [1, 0.1, 0.01, 0.001, 0.0001],\n",
       "                         'kernel': ['rbf', 'poly', 'sigmoid', 'linear']},\n",
       "             verbose=2)"
      ]
     },
     "execution_count": 34,
     "metadata": {},
     "output_type": "execute_result"
    }
   ],
   "source": [
    "# Training and tuning hyperparameters\n",
    "grid_search_svm.fit(X_train_w2v, y_train)"
   ]
  },
  {
   "cell_type": "code",
   "execution_count": 35,
   "id": "c2547337",
   "metadata": {},
   "outputs": [
    {
     "name": "stdout",
     "output_type": "stream",
     "text": [
      "Best Parameters: {'C': 1000, 'gamma': 1, 'kernel': 'linear'}\n",
      "Best Score: 0.8713564467030916\n"
     ]
    }
   ],
   "source": [
    "# Show the best parameters combo and use that combo for the svm model\n",
    "print(\"Best Parameters:\", grid_search_svm.best_params_)\n",
    "print(\"Best Score:\", grid_search_svm.best_score_)\n",
    "best_svm = grid_search_svm.best_estimator_"
   ]
  },
  {
   "cell_type": "code",
   "execution_count": 36,
   "id": "0b440189",
   "metadata": {},
   "outputs": [],
   "source": [
    "y_pred_svm=best_svm.predict(X_test_w2v)"
   ]
  },
  {
   "cell_type": "code",
   "execution_count": 37,
   "id": "7c281354",
   "metadata": {},
   "outputs": [
    {
     "data": {
      "text/plain": [
       "['model_svm_clothes.joblib']"
      ]
     },
     "execution_count": 37,
     "metadata": {},
     "output_type": "execute_result"
    }
   ],
   "source": [
    "joblib.dump(best_svm, 'model_svm_clothes.joblib')"
   ]
  },
  {
   "cell_type": "markdown",
   "id": "739ac6db",
   "metadata": {},
   "source": [
    "# Evaluation of two models"
   ]
  },
  {
   "cell_type": "markdown",
   "id": "3fd26928",
   "metadata": {},
   "source": [
    "## Naive Bayes model"
   ]
  },
  {
   "cell_type": "code",
   "execution_count": 38,
   "id": "f64c5209",
   "metadata": {
    "scrolled": false
   },
   "outputs": [
    {
     "name": "stdout",
     "output_type": "stream",
     "text": [
      "              precision    recall  f1-score   support\n",
      "\n",
      "           0       0.35      0.81      0.49       814\n",
      "           1       0.94      0.68      0.79      3715\n",
      "\n",
      "    accuracy                           0.70      4529\n",
      "   macro avg       0.65      0.74      0.64      4529\n",
      "weighted avg       0.84      0.70      0.73      4529\n",
      "\n"
     ]
    }
   ],
   "source": [
    "# Evaluate the performance of the naive bayes model\n",
    "print (classification_report(y_test,y_pred_nb))"
   ]
  },
  {
   "cell_type": "code",
   "execution_count": 39,
   "id": "6aa2be1f",
   "metadata": {},
   "outputs": [],
   "source": [
    "accuracy_nb = accuracy_score(y_test, y_pred_nb)\n",
    "precision_nb = precision_score(y_test, y_pred_nb)\n",
    "recall_nb = recall_score(y_test, y_pred_nb)\n",
    "f1_nb = f1_score(y_test, y_pred_nb)\n",
    "cm_nb = confusion_matrix(y_test, y_pred_nb)"
   ]
  },
  {
   "cell_type": "code",
   "execution_count": 40,
   "id": "5f2487ab",
   "metadata": {},
   "outputs": [
    {
     "name": "stdout",
     "output_type": "stream",
     "text": [
      "accuracy: 0.7005961580922941\n",
      "precision: 0.9415949082740547\n",
      "recall: 0.676985195154778\n",
      "f1 score: 0.7876605073598497\n"
     ]
    }
   ],
   "source": [
    "print('accuracy:' ,accuracy_nb)\n",
    "print('precision:' ,precision_nb)\n",
    "print('recall:' ,recall_nb)\n",
    "print('f1 score:' ,f1_nb)"
   ]
  },
  {
   "cell_type": "code",
   "execution_count": 41,
   "id": "fc91a828",
   "metadata": {},
   "outputs": [
    {
     "data": {
      "image/png": "[encoded data removed]",
      "text/plain": [
       "<Figure size 640x480 with 2 Axes>"
      ]
     },
     "metadata": {},
     "output_type": "display_data"
    }
   ],
   "source": [
    "# Show confusion matrix of native bayes model\n",
    "sns.heatmap(cm_nb, annot=True, fmt='d', cmap='Blues')\n",
    "plt.xlabel('Predicted')\n",
    "plt.ylabel('Actual')\n",
    "plt.title('Confusion Matrix')\n",
    "plt.show()"
   ]
  },
  {
   "cell_type": "code",
   "execution_count": 43,
   "id": "44d59802",
   "metadata": {},
   "outputs": [
    {
     "name": "stdout",
     "output_type": "stream",
     "text": [
      "AUC: 0.7426695017542931\n"
     ]
    }
   ],
   "source": [
    "#Calculate AUC\n",
    "y_prob = model_nb.predict_proba(X_test_w2v)[:,1]\n",
    "fpr, tpr, thresholds = roc_curve(y_test, y_pred_nb)\n",
    "roc_auc = auc(fpr, tpr)\n",
    "print('AUC:', roc_auc)"
   ]
  },
  {
   "cell_type": "markdown",
   "id": "44dce67c",
   "metadata": {},
   "source": [
    "## SVM model"
   ]
  },
  {
   "cell_type": "code",
   "execution_count": 44,
   "id": "a565b681",
   "metadata": {},
   "outputs": [
    {
     "name": "stdout",
     "output_type": "stream",
     "text": [
      "              precision    recall  f1-score   support\n",
      "\n",
      "           0       0.70      0.48      0.57       814\n",
      "           1       0.89      0.95      0.92      3715\n",
      "\n",
      "    accuracy                           0.87      4529\n",
      "   macro avg       0.80      0.72      0.75      4529\n",
      "weighted avg       0.86      0.87      0.86      4529\n",
      "\n"
     ]
    }
   ],
   "source": [
    "# Evaluate the performance of the naive bayes model\n",
    "print (classification_report(y_test,y_pred_svm))"
   ]
  },
  {
   "cell_type": "code",
   "execution_count": 45,
   "id": "25f49978",
   "metadata": {},
   "outputs": [],
   "source": [
    "accuracy_svm = accuracy_score(y_test, y_pred_svm)\n",
    "precision_svm = precision_score(y_test, y_pred_svm)\n",
    "recall_svm = recall_score(y_test, y_pred_svm)\n",
    "f1_svm = f1_score(y_test, y_pred_svm)\n",
    "cm_svm = confusion_matrix(y_test, y_pred_svm)"
   ]
  },
  {
   "cell_type": "code",
   "execution_count": 46,
   "id": "c8629ae9",
   "metadata": {},
   "outputs": [
    {
     "name": "stdout",
     "output_type": "stream",
     "text": [
      "accuracy: 0.8692868182821815\n",
      "precision: 0.8936223846735568\n",
      "recall: 0.9542395693135935\n",
      "f1 score: 0.9229367352252017\n"
     ]
    }
   ],
   "source": [
    "print('accuracy:' ,accuracy_svm)\n",
    "print('precision:' ,precision_svm)\n",
    "print('recall:' ,recall_svm)\n",
    "print('f1 score:' ,f1_svm)"
   ]
  },
  {
   "cell_type": "code",
   "execution_count": 47,
   "id": "badb1eaf",
   "metadata": {},
   "outputs": [
    {
     "data": {
      "image/png": "[encoded data removed]",
      "text/plain": [
       "<Figure size 640x480 with 2 Axes>"
      ]
     },
     "metadata": {},
     "output_type": "display_data"
    }
   ],
   "source": [
    "# Show confusion matrix of SVM model\n",
    "sns.heatmap(cm_svm, annot=True, fmt='d', cmap='Blues')\n",
    "plt.xlabel('Predicted')\n",
    "plt.ylabel('Actual')\n",
    "plt.title('Confusion Matrix')\n",
    "plt.show()"
   ]
  },
  {
   "cell_type": "code",
   "execution_count": 48,
   "id": "1b04089e",
   "metadata": {},
   "outputs": [
    {
     "name": "stdout",
     "output_type": "stream",
     "text": [
      "AUC: 0.8961008726822994\n"
     ]
    }
   ],
   "source": [
    "#Calculate AUC\n",
    "y_prob_svm = best_svm.predict_proba(X_test_w2v)[:,1]\n",
    "fpr, tpr, thresholds = roc_curve(y_test, y_prob_svm)\n",
    "roc_auc = auc(fpr, tpr)\n",
    "print('AUC:', roc_auc)"
   ]
  },
  {
   "cell_type": "markdown",
   "id": "b43451ec",
   "metadata": {},
   "source": [
    "# Evaluation and Discussion"
   ]
  },
  {
   "cell_type": "markdown",
   "id": "10ef8b3b",
   "metadata": {},
   "source": [
    "## Evaluation"
   ]
  },
  {
   "cell_type": "markdown",
   "id": "85ab7d64",
   "metadata": {},
   "source": [
    "The project trained two machine learning models, with the Naïve Bayes model serving as the baseline and the Support Vector Machine (SVM) model as the primary model for comparison. Here's a detailed analysis of their performances:\n",
    "\n",
    "Naïve Bayes Model\n",
    "\n",
    "Precision Score: High at 0.942, indicating that when the model predicts a label of 1, it is very likely to be correct.\n",
    "Recall Score: Low at 0.677, suggesting a high false negative rate. This, combined with the high precision, indicates the model's tendency to miss true positives.\n",
    "F1 Score: Moderately high at 0.788, reflecting an average overall prediction performance.\n",
    "ROC-AUC Score: Similar to the F1 Score at 0.743, indicating moderate balance in model performance.\n",
    "Confusion Matrix: Reveals a significant imbalance with about 1200 false negatives, far exceeding the true negatives.\n",
    "\n",
    "SVM Model\n",
    "\n",
    "Precision Score: Slightly lower than the Naïve Bayes model at 0.894, but still high.\n",
    "Recall Score: Significantly higher at 0.954, indicating a much lower rate of false negatives.\n",
    "F1 Score: High at 0.923, showing a better balance between precision and recall compared to the Naïve Bayes model.\n",
    "ROC-AUC Score: Higher at 0.896, suggesting a more reliable performance in predicting both labels 0 and 1.\n",
    "Confusion Matrix: Shows a better balance with a marginally higher false positive rate compared to the Naïve Bayes model, but significantly fewer false negatives.\n",
    "\n",
    "The SVM model outperforms the Naïve Bayes baseline in several key areas. Despite a slightly lower precision, its significantly higher recall and F1 scores indicate a more balanced and accurate performance in predicting customer recommendations. The SVM's ability to maintain high performance despite the dataset's imbalance is particularly noteworthy. The ROC-AUC score and the confusion matrix further corroborate the superior performance of the SVM model compared to the baseline Naïve Bayes model. This demonstrates the effectiveness of the SVM in this specific application, highlighting its suitability for handling imbalanced datasets and complex prediction tasks.\n"
   ]
  },
  {
   "cell_type": "markdown",
   "id": "1e8c1953",
   "metadata": {},
   "source": [
    "## Discussion"
   ]
  },
  {
   "cell_type": "markdown",
   "id": "e0350456",
   "metadata": {},
   "source": [
    "In this project, by analysing over 20,000 clothing reviews, I developed a model using the SVM algorithm capable of discerning customers' attitudes in their reviews. This model enables consumers to easily determine whether a reviewer recommends an item of clothing, guiding their purchasing decisions. Additionally, retailers can utilise this model to monitor customer attitudes towards each garment in their inventory, allowing them to adjust production and stock levels accordingly. With an accuracy exceeding 90%, this model is a valuable reference tool.\n",
    "\n",
    "This model's application is not limited to the clothing retail sector; it can also be applied in areas such as video streaming services, cinemas, and any other domain where consumer opinions are valuable. By employing this model, businesses can reduce costs and enhance customer experience.\n",
    "\n",
    "For future iterations of the project, I would consider making changes in three key areas:\n",
    "\n",
    "Data Preprocessing: I would employ more nuanced preprocessing techniques. For example, using different normalisation methods for nouns, adverbs, and adjectives - perhaps stemming for nouns and lemmatisation for adverbs and adjectives, which are more attitude-related. This approach could improve the efficiency of the project while maintaining prediction accuracy.\n",
    "\n",
    "Vectorisation Model: Although Word2Vec is suitable for this project, it struggles with out-of-vocabulary (OOV) words. In future projects, I might explore using FastText for word vectorisation to handle OOV issues and small corpora better.\n",
    "\n",
    "Advanced Modeling Techniques: Considering more complex models like Neural Networks or GPT for training could be beneficial. While the SVM achieved respectable performance, its accuracy wasn't exceptional, and in some respects, it even fell short of the simpler Naïve Bayes model, possibly due to the nature of the data. Introducing a more sophisticated and precise model could enhance accuracy.\n",
    "\n",
    "In summary, I successfully established an NLP classifier capable of interpreting consumer sentiments in their reviews by processing data and training the model. This accomplishment demonstrates the potential of machine learning in extracting valuable insights from textual data."
   ]
  }
 ],
 "metadata": {
  "kernelspec": {
   "display_name": "Python 3 (ipykernel)",
   "language": "python",
   "name": "python3"
  },
  "language_info": {
   "codemirror_mode": {
    "name": "ipython",
    "version": 3
   },
   "file_extension": ".py",
   "mimetype": "text/x-python",
   "name": "python",
   "nbconvert_exporter": "python",
   "pygments_lexer": "ipython3",
   "version": "3.9.7"
  }
 },
 "nbformat": 4,
 "nbformat_minor": 5
}
